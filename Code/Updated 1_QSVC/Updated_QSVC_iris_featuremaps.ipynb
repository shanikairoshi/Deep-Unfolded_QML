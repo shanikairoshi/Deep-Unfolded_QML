{
  "nbformat": 4,
  "nbformat_minor": 0,
  "metadata": {
    "colab": {
      "provenance": []
    },
    "kernelspec": {
      "name": "python3",
      "display_name": "Python 3"
    },
    "language_info": {
      "name": "python"
    }
  },
  "cells": [
    {
      "cell_type": "code",
      "execution_count": null,
      "metadata": {
        "id": "Uv1kczzP_bLf"
      },
      "outputs": [],
      "source": []
    },
    {
      "cell_type": "code",
      "source": [
        "!pip install qiskit;\n",
        "!pip install qiskit-machine-learning\n",
        "!pip install qiskit qiskit_machine_learning qiskit_algorithms\n",
        "!pip install qiskit-aer\n",
        "\n",
        "from IPython.display import clear_output\n",
        "clear_output()"
      ],
      "metadata": {
        "id": "Jqtx2F_VcfG7"
      },
      "execution_count": 1,
      "outputs": []
    },
    {
      "cell_type": "markdown",
      "source": [
        "This code provide QSVC defualt vsualization using featuremap"
      ],
      "metadata": {
        "id": "LM6aXi8rcKRS"
      }
    },
    {
      "cell_type": "code",
      "source": [
        "\n",
        "from qiskit.circuit.library import ZFeatureMap\n",
        "from qiskit.primitives import Sampler\n",
        "from qiskit_algorithms.state_fidelities import ComputeUncompute\n",
        "#from qiskit_machine_learning.kernels import FidelityQuantumKernel,QuantumKernel\n",
        "from qiskit_machine_learning.kernels import FidelityQuantumKernel\n",
        "import time\n",
        "#from qiskit import BasicAer#\n",
        "from qiskit_algorithms.utils import algorithm_globals\n",
        "\n",
        "algorithm_globals.random_seed = 12345\n",
        "from qiskit_algorithms.optimizers import COBYLA\n",
        "from qiskit.circuit.library import TwoLocal\n",
        "from qiskit_machine_learning.algorithms import VQC\n",
        "#from qiskit_machine_learning.datasets import iris\n",
        "from qiskit_machine_learning.circuit.library import RawFeatureVector\n",
        "from sklearn.datasets import load_iris\n",
        "from sklearn.model_selection import train_test_split\n",
        "from qiskit_machine_learning.algorithms import QSVC\n",
        "\n",
        "from sklearn.preprocessing import MinMaxScaler # Importing MinMaxScaler from sklearn.preprocessing\n",
        "# Variables to track objective function and learning rate\n",
        "# Set random seed for reproducibility\n",
        "seed = 1376\n",
        "algorithm_globals.random_seed = seed\n",
        "\n",
        "# Load dataset and split into training and test sets\n",
        "iris = load_iris()\n",
        "X, y = iris.data, iris.target\n",
        "X, y = X[y != 2], y[y != 2]  # Binary classification\n",
        "X = MinMaxScaler().fit_transform(X)\n",
        "data_train, data_test, data_train_labels, data_test_labels = train_test_split(X, y, test_size=0.3, random_state=seed)\n",
        "\n",
        "objective_func_vals = []\n",
        "learning_rates = []\n",
        "perturbations = []\n",
        "initial_learning_rate = 0.15  # Starting learning rate\n",
        "initial_perturbation = 0.15  # Starting perturbation value\n",
        "momentum = 0.95  # Momentum factor for smoother learning rate adjustments\n",
        "gradient_moving_avg = 0  # Moving average of gradients\n",
        "\n",
        "\n",
        "# Define quantum feature map and ansatz\n",
        "feature_dim = data_train.shape[1]\n",
        "\n",
        "import matplotlib.pyplot as plt\n",
        "import numpy as np\n",
        "\n",
        "feature_map = ZFeatureMap(feature_dimension=feature_dim, reps=3)\n",
        "\n",
        "sampler = Sampler()\n",
        "\n",
        "fidelity = ComputeUncompute(sampler=sampler)\n",
        "\n",
        "kernel = FidelityQuantumKernel(fidelity=fidelity, feature_map=feature_map)\n",
        "print(feature_map.num_qubits)\n",
        "\n",
        "qsvc=QSVC(quantum_kernel=kernel)\n",
        "t0=time.time()\n",
        "qsvc.fit(data_train, data_train_labels)\n",
        "t1 = time.time()\n",
        "print(f\"Time taken for QSVC training ZFeatureMap: {t1 - t0} seconds\")\n",
        "\n",
        "qsvc_score_test=qsvc.score(data_test, data_test_labels )\n",
        "print(f\"QSVC classification test score ZFeatureMap: {qsvc_score_test}\")\n",
        "#print(f\"Time taken :{t1-t0}\")\n",
        "\n",
        "\n",
        "qsvc_score_train=qsvc.score(data_train, data_train_labels)\n",
        "print(f\"QSVC classification train score zfeaturemap: {qsvc_score_train}\")"
      ],
      "metadata": {
        "colab": {
          "base_uri": "https://localhost:8080/"
        },
        "id": "SfHkWsNFcJUD",
        "outputId": "7c764d15-b2e6-4b3b-98f5-5c4f56047860"
      },
      "execution_count": 2,
      "outputs": [
        {
          "output_type": "stream",
          "name": "stderr",
          "text": [
            "<ipython-input-2-e742f7594912>:50: DeprecationWarning: The class ``qiskit.primitives.sampler.Sampler`` is deprecated as of qiskit 1.2. It will be removed no earlier than 3 months after the release date. All implementations of the `BaseSamplerV1` interface have been deprecated in favor of their V2 counterparts. The V2 alternative for the `Sampler` class is `StatevectorSampler`.\n",
            "  sampler = Sampler()\n"
          ]
        },
        {
          "output_type": "stream",
          "name": "stdout",
          "text": [
            "4\n",
            "Time taken for QSVC training Paulifeaturemap: 41.95256686210632 seconds\n",
            "QSVC classification test score Paulifeaturemap: 0.8666666666666667\n",
            "QSVC classification train score Paulifeaturemap: 1.0\n"
          ]
        }
      ]
    }
  ]
}