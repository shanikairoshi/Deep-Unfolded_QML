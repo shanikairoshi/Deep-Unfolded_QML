{
  "nbformat": 4,
  "nbformat_minor": 0,
  "metadata": {
    "colab": {
      "provenance": [],
      "authorship_tag": "ABX9TyNXaECVJB5X9wmBjCx9UM3M",
      "include_colab_link": true
    },
    "kernelspec": {
      "name": "python3",
      "display_name": "Python 3"
    },
    "language_info": {
      "name": "python"
    }
  },
  "cells": [
    {
      "cell_type": "markdown",
      "metadata": {
        "id": "view-in-github",
        "colab_type": "text"
      },
      "source": [
        "<a href=\"https://colab.research.google.com/github/shanikairoshi/QML-and-Deep-Unfolded_QML/blob/main/Classical_SVM_vs_Deep_unfolded_SVM.ipynb\" target=\"_parent\"><img src=\"https://colab.research.google.com/assets/colab-badge.svg\" alt=\"Open In Colab\"/></a>"
      ]
    },
    {
      "cell_type": "code",
      "execution_count": null,
      "metadata": {
        "id": "p4-sXPYmWTXM"
      },
      "outputs": [],
      "source": []
    },
    {
      "cell_type": "code",
      "source": [
        "from sklearn import datasets\n",
        "from sklearn.model_selection import train_test_split\n",
        "from sklearn.svm import SVC\n",
        "from sklearn.metrics import accuracy_score, log_loss\n",
        "\n",
        "# Load dataset (e.g., Iris)\n",
        "iris = datasets.load_iris()\n",
        "X = iris.data\n",
        "y = iris.target\n",
        "\n",
        "# Binary classification for simplicity (setosa vs. non-setosa)\n",
        "y = (y == 0).astype(int)\n",
        "\n",
        "# Split data into train and test sets\n",
        "X_train, X_test, y_train, y_test = train_test_split(X, y, test_size=0.3, random_state=42)\n",
        "\n",
        "# Classical SVM using scikit-learn\n",
        "svm_classical = SVC(kernel='linear', probability=True)\n",
        "svm_classical.fit(X_train, y_train)\n",
        "\n",
        "# Predict on test data\n",
        "y_pred = svm_classical.predict(X_test)\n",
        "y_prob = svm_classical.predict_proba(X_test)\n",
        "\n",
        "# Compute accuracy and loss\n",
        "accuracy_classical = accuracy_score(y_test, y_pred)\n",
        "loss_classical = log_loss(y_test, y_prob)\n",
        "\n",
        "print(f\"Classical SVM Accuracy: {accuracy_classical}\")\n",
        "print(f\"Classical SVM Loss: {loss_classical}\")\n"
      ],
      "metadata": {
        "colab": {
          "base_uri": "https://localhost:8080/"
        },
        "id": "CFwE5hYIWYIS",
        "outputId": "ad5c2bce-11f6-49d7-febe-314533c0c257"
      },
      "execution_count": 1,
      "outputs": [
        {
          "output_type": "stream",
          "name": "stdout",
          "text": [
            "Classical SVM Accuracy: 1.0\n",
            "Classical SVM Loss: 0.020701257697304402\n"
          ]
        }
      ]
    },
    {
      "cell_type": "code",
      "source": [
        "import numpy as np\n",
        "import torch\n",
        "from sklearn.model_selection import train_test_split\n",
        "from sklearn.metrics import accuracy_score, log_loss\n",
        "\n",
        "# Define the deep unfolded SVM with iterative optimization\n",
        "class DeepUnfoldingSVM(torch.nn.Module):\n",
        "    def __init__(self, input_size):\n",
        "        super(DeepUnfoldingSVM, self).__init__()\n",
        "        self.weights = torch.nn.Parameter(torch.zeros(input_size))\n",
        "        self.bias = torch.nn.Parameter(torch.zeros(1))\n",
        "        self.lr = 0.1  # Initial learning rate\n",
        "\n",
        "    def forward(self, x):\n",
        "        return torch.sign(torch.matmul(x, self.weights) + self.bias)\n",
        "\n",
        "    def loss_fn(self, y_pred, y_true):\n",
        "      hinge_loss = torch.mean(torch.clamp(1 - y_true * y_pred, min=0))\n",
        "      l2_reg = torch.sum(self.weights ** 2)  # L2 regularization term\n",
        "      return hinge_loss + 0.01 * l2_reg  # 0.01 is the regularization coefficient\n",
        "# Load dataset\n",
        "iris = datasets.load_iris()\n",
        "X = iris.data\n",
        "y = iris.target\n",
        "\n",
        "# Binary classification for simplicity (setosa vs. non-setosa)\n",
        "y = (y == 0).astype(int)\n",
        "\n",
        "# Split data into train and test sets\n",
        "X_train, X_test, y_train, y_test = train_test_split(X, y, test_size=0.3, random_state=42)\n",
        "from sklearn.preprocessing import StandardScaler\n",
        "\n",
        "scaler = StandardScaler()\n",
        "X_train = scaler.fit_transform(X_train)\n",
        "X_test = scaler.transform(X_test)\n",
        "# Convert data to torch tensors\n",
        "X_train_tensor = torch.tensor(X_train, dtype=torch.float32)\n",
        "y_train_tensor = torch.tensor(y_train, dtype=torch.float32)\n",
        "X_test_tensor = torch.tensor(X_test, dtype=torch.float32)\n",
        "\n",
        "# Initialize model and optimizer\n",
        "model = DeepUnfoldingSVM(input_size=X_train.shape[1])\n",
        "optimizer = torch.optim.Adam([model.weights, model.bias], lr=0.01)\n",
        "\n",
        "\n",
        "# Training loop\n",
        "epochs = 500\n",
        "batch_size = 32  # Example mini-batch size\n",
        "train_dataset = torch.utils.data.TensorDataset(X_train_tensor, y_train_tensor)\n",
        "train_loader = torch.utils.data.DataLoader(train_dataset, batch_size=batch_size, shuffle=True)\n",
        "\n",
        "for epoch in range(epochs):\n",
        "    for X_batch, y_batch in train_loader:\n",
        "        optimizer.zero_grad()\n",
        "        y_pred = model(X_batch)\n",
        "        loss = model.loss_fn(y_pred, y_batch)\n",
        "        loss.backward()\n",
        "        optimizer.step()\n",
        "\n",
        "# Evaluation on test set\n",
        "with torch.no_grad():\n",
        "    y_pred_test = model(X_test_tensor)\n",
        "    y_pred_test = y_pred_test.numpy()\n",
        "    y_pred_test = (y_pred_test > 0).astype(int)\n",
        "\n",
        "# Compute accuracy and loss\n",
        "accuracy_unfolded = accuracy_score(y_test, y_pred_test)\n",
        "loss_unfolded = log_loss(y_test, y_pred_test)\n",
        "\n",
        "print(f\"Deep Unfolded SVM Accuracy: {accuracy_unfolded}\")\n",
        "print(f\"Deep Unfolded SVM Loss: {loss_unfolded}\")\n"
      ],
      "metadata": {
        "colab": {
          "base_uri": "https://localhost:8080/"
        },
        "id": "438GzkSSWaKi",
        "outputId": "45be78b4-ff3c-4abc-d409-a1347d981037"
      },
      "execution_count": 8,
      "outputs": [
        {
          "output_type": "stream",
          "name": "stdout",
          "text": [
            "Deep Unfolded SVM Accuracy: 0.5777777777777777\n",
            "Deep Unfolded SVM Loss: 15.218431430960578\n"
          ]
        }
      ]
    }
  ]
}